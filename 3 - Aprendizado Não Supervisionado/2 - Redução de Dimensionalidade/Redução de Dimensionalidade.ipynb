{
 "cells": [
  {
   "cell_type": "markdown",
   "metadata": {},
   "source": [
    "# Redução de Dimensionalidade\n",
    "\n",
    "Por vezes nos deparamos com problemas em que devemos lidar com um dataset de alta dimensionalidade, onde não é possível realizar o processamento necessário devido ao custo computacional envolvido no processo (Maldição da Dimensionalidade). \n",
    "\n",
    "Para estes casos, é interessante utilizar técnicas que realizam a redução da dimensão do nosso dataset sem comprometer a qualidade das informaçõe presentes nele. Para isso, desenvolveram-se técnicas de Aprendizado de Máquina capazes de realizar projeções e reduções de dimensionalidade no dataset de maneira otimizada e eficiente, mantendo a qualidade da informação.\n",
    "\n",
    "# PCA (Principal Component Analysis)"
   ]
  },
  {
   "cell_type": "code",
   "execution_count": 1,
   "metadata": {},
   "outputs": [],
   "source": [
    "# Importando as bibliotecas\n",
    "import numpy as np\n",
    "import matplotlib.pyplot as plt\n",
    "import pandas as pd\n",
    "%matplotlib inline"
   ]
  },
  {
   "cell_type": "code",
   "execution_count": 2,
   "metadata": {},
   "outputs": [],
   "source": [
    "# Importando o dataset\n",
    "dataset = pd.read_csv('Wine.csv')\n",
    "X = dataset.iloc[:, 0:13]\n",
    "y = dataset.iloc[:, 13]"
   ]
  },
  {
   "cell_type": "code",
   "execution_count": 3,
   "metadata": {},
   "outputs": [
    {
     "data": {
      "text/html": [
       "<div>\n",
       "<style scoped>\n",
       "    .dataframe tbody tr th:only-of-type {\n",
       "        vertical-align: middle;\n",
       "    }\n",
       "\n",
       "    .dataframe tbody tr th {\n",
       "        vertical-align: top;\n",
       "    }\n",
       "\n",
       "    .dataframe thead th {\n",
       "        text-align: right;\n",
       "    }\n",
       "</style>\n",
       "<table border=\"1\" class=\"dataframe\">\n",
       "  <thead>\n",
       "    <tr style=\"text-align: right;\">\n",
       "      <th></th>\n",
       "      <th>Alcohol</th>\n",
       "      <th>Malic_Acid</th>\n",
       "      <th>Ash</th>\n",
       "      <th>Ash_Alcanity</th>\n",
       "      <th>Magnesium</th>\n",
       "      <th>Total_Phenols</th>\n",
       "      <th>Flavanoids</th>\n",
       "      <th>Nonflavanoid_Phenols</th>\n",
       "      <th>Proanthocyanins</th>\n",
       "      <th>Color_Intensity</th>\n",
       "      <th>Hue</th>\n",
       "      <th>OD280</th>\n",
       "      <th>Proline</th>\n",
       "      <th>Customer_Segment</th>\n",
       "    </tr>\n",
       "  </thead>\n",
       "  <tbody>\n",
       "    <tr>\n",
       "      <th>0</th>\n",
       "      <td>14.23</td>\n",
       "      <td>1.71</td>\n",
       "      <td>2.43</td>\n",
       "      <td>15.6</td>\n",
       "      <td>127</td>\n",
       "      <td>2.80</td>\n",
       "      <td>3.06</td>\n",
       "      <td>0.28</td>\n",
       "      <td>2.29</td>\n",
       "      <td>5.64</td>\n",
       "      <td>1.04</td>\n",
       "      <td>3.92</td>\n",
       "      <td>1065</td>\n",
       "      <td>1</td>\n",
       "    </tr>\n",
       "    <tr>\n",
       "      <th>1</th>\n",
       "      <td>13.20</td>\n",
       "      <td>1.78</td>\n",
       "      <td>2.14</td>\n",
       "      <td>11.2</td>\n",
       "      <td>100</td>\n",
       "      <td>2.65</td>\n",
       "      <td>2.76</td>\n",
       "      <td>0.26</td>\n",
       "      <td>1.28</td>\n",
       "      <td>4.38</td>\n",
       "      <td>1.05</td>\n",
       "      <td>3.40</td>\n",
       "      <td>1050</td>\n",
       "      <td>1</td>\n",
       "    </tr>\n",
       "    <tr>\n",
       "      <th>2</th>\n",
       "      <td>13.16</td>\n",
       "      <td>2.36</td>\n",
       "      <td>2.67</td>\n",
       "      <td>18.6</td>\n",
       "      <td>101</td>\n",
       "      <td>2.80</td>\n",
       "      <td>3.24</td>\n",
       "      <td>0.30</td>\n",
       "      <td>2.81</td>\n",
       "      <td>5.68</td>\n",
       "      <td>1.03</td>\n",
       "      <td>3.17</td>\n",
       "      <td>1185</td>\n",
       "      <td>1</td>\n",
       "    </tr>\n",
       "    <tr>\n",
       "      <th>3</th>\n",
       "      <td>14.37</td>\n",
       "      <td>1.95</td>\n",
       "      <td>2.50</td>\n",
       "      <td>16.8</td>\n",
       "      <td>113</td>\n",
       "      <td>3.85</td>\n",
       "      <td>3.49</td>\n",
       "      <td>0.24</td>\n",
       "      <td>2.18</td>\n",
       "      <td>7.80</td>\n",
       "      <td>0.86</td>\n",
       "      <td>3.45</td>\n",
       "      <td>1480</td>\n",
       "      <td>1</td>\n",
       "    </tr>\n",
       "    <tr>\n",
       "      <th>4</th>\n",
       "      <td>13.24</td>\n",
       "      <td>2.59</td>\n",
       "      <td>2.87</td>\n",
       "      <td>21.0</td>\n",
       "      <td>118</td>\n",
       "      <td>2.80</td>\n",
       "      <td>2.69</td>\n",
       "      <td>0.39</td>\n",
       "      <td>1.82</td>\n",
       "      <td>4.32</td>\n",
       "      <td>1.04</td>\n",
       "      <td>2.93</td>\n",
       "      <td>735</td>\n",
       "      <td>1</td>\n",
       "    </tr>\n",
       "  </tbody>\n",
       "</table>\n",
       "</div>"
      ],
      "text/plain": [
       "   Alcohol  Malic_Acid   Ash  Ash_Alcanity  Magnesium  Total_Phenols  \\\n",
       "0    14.23        1.71  2.43          15.6        127           2.80   \n",
       "1    13.20        1.78  2.14          11.2        100           2.65   \n",
       "2    13.16        2.36  2.67          18.6        101           2.80   \n",
       "3    14.37        1.95  2.50          16.8        113           3.85   \n",
       "4    13.24        2.59  2.87          21.0        118           2.80   \n",
       "\n",
       "   Flavanoids  Nonflavanoid_Phenols  Proanthocyanins  Color_Intensity   Hue  \\\n",
       "0        3.06                  0.28             2.29             5.64  1.04   \n",
       "1        2.76                  0.26             1.28             4.38  1.05   \n",
       "2        3.24                  0.30             2.81             5.68  1.03   \n",
       "3        3.49                  0.24             2.18             7.80  0.86   \n",
       "4        2.69                  0.39             1.82             4.32  1.04   \n",
       "\n",
       "   OD280  Proline  Customer_Segment  \n",
       "0   3.92     1065                 1  \n",
       "1   3.40     1050                 1  \n",
       "2   3.17     1185                 1  \n",
       "3   3.45     1480                 1  \n",
       "4   2.93      735                 1  "
      ]
     },
     "execution_count": 3,
     "metadata": {},
     "output_type": "execute_result"
    }
   ],
   "source": [
    "dataset.head()"
   ]
  },
  {
   "cell_type": "code",
   "execution_count": 4,
   "metadata": {},
   "outputs": [
    {
     "data": {
      "text/html": [
       "<div>\n",
       "<style scoped>\n",
       "    .dataframe tbody tr th:only-of-type {\n",
       "        vertical-align: middle;\n",
       "    }\n",
       "\n",
       "    .dataframe tbody tr th {\n",
       "        vertical-align: top;\n",
       "    }\n",
       "\n",
       "    .dataframe thead th {\n",
       "        text-align: right;\n",
       "    }\n",
       "</style>\n",
       "<table border=\"1\" class=\"dataframe\">\n",
       "  <thead>\n",
       "    <tr style=\"text-align: right;\">\n",
       "      <th></th>\n",
       "      <th>Alcohol</th>\n",
       "      <th>Malic_Acid</th>\n",
       "      <th>Ash</th>\n",
       "      <th>Ash_Alcanity</th>\n",
       "      <th>Magnesium</th>\n",
       "      <th>Total_Phenols</th>\n",
       "      <th>Flavanoids</th>\n",
       "      <th>Nonflavanoid_Phenols</th>\n",
       "      <th>Proanthocyanins</th>\n",
       "      <th>Color_Intensity</th>\n",
       "      <th>Hue</th>\n",
       "      <th>OD280</th>\n",
       "      <th>Proline</th>\n",
       "    </tr>\n",
       "  </thead>\n",
       "  <tbody>\n",
       "    <tr>\n",
       "      <th>0</th>\n",
       "      <td>14.23</td>\n",
       "      <td>1.71</td>\n",
       "      <td>2.43</td>\n",
       "      <td>15.6</td>\n",
       "      <td>127</td>\n",
       "      <td>2.80</td>\n",
       "      <td>3.06</td>\n",
       "      <td>0.28</td>\n",
       "      <td>2.29</td>\n",
       "      <td>5.64</td>\n",
       "      <td>1.04</td>\n",
       "      <td>3.92</td>\n",
       "      <td>1065</td>\n",
       "    </tr>\n",
       "    <tr>\n",
       "      <th>1</th>\n",
       "      <td>13.20</td>\n",
       "      <td>1.78</td>\n",
       "      <td>2.14</td>\n",
       "      <td>11.2</td>\n",
       "      <td>100</td>\n",
       "      <td>2.65</td>\n",
       "      <td>2.76</td>\n",
       "      <td>0.26</td>\n",
       "      <td>1.28</td>\n",
       "      <td>4.38</td>\n",
       "      <td>1.05</td>\n",
       "      <td>3.40</td>\n",
       "      <td>1050</td>\n",
       "    </tr>\n",
       "    <tr>\n",
       "      <th>2</th>\n",
       "      <td>13.16</td>\n",
       "      <td>2.36</td>\n",
       "      <td>2.67</td>\n",
       "      <td>18.6</td>\n",
       "      <td>101</td>\n",
       "      <td>2.80</td>\n",
       "      <td>3.24</td>\n",
       "      <td>0.30</td>\n",
       "      <td>2.81</td>\n",
       "      <td>5.68</td>\n",
       "      <td>1.03</td>\n",
       "      <td>3.17</td>\n",
       "      <td>1185</td>\n",
       "    </tr>\n",
       "    <tr>\n",
       "      <th>3</th>\n",
       "      <td>14.37</td>\n",
       "      <td>1.95</td>\n",
       "      <td>2.50</td>\n",
       "      <td>16.8</td>\n",
       "      <td>113</td>\n",
       "      <td>3.85</td>\n",
       "      <td>3.49</td>\n",
       "      <td>0.24</td>\n",
       "      <td>2.18</td>\n",
       "      <td>7.80</td>\n",
       "      <td>0.86</td>\n",
       "      <td>3.45</td>\n",
       "      <td>1480</td>\n",
       "    </tr>\n",
       "    <tr>\n",
       "      <th>4</th>\n",
       "      <td>13.24</td>\n",
       "      <td>2.59</td>\n",
       "      <td>2.87</td>\n",
       "      <td>21.0</td>\n",
       "      <td>118</td>\n",
       "      <td>2.80</td>\n",
       "      <td>2.69</td>\n",
       "      <td>0.39</td>\n",
       "      <td>1.82</td>\n",
       "      <td>4.32</td>\n",
       "      <td>1.04</td>\n",
       "      <td>2.93</td>\n",
       "      <td>735</td>\n",
       "    </tr>\n",
       "  </tbody>\n",
       "</table>\n",
       "</div>"
      ],
      "text/plain": [
       "   Alcohol  Malic_Acid   Ash  Ash_Alcanity  Magnesium  Total_Phenols  \\\n",
       "0    14.23        1.71  2.43          15.6        127           2.80   \n",
       "1    13.20        1.78  2.14          11.2        100           2.65   \n",
       "2    13.16        2.36  2.67          18.6        101           2.80   \n",
       "3    14.37        1.95  2.50          16.8        113           3.85   \n",
       "4    13.24        2.59  2.87          21.0        118           2.80   \n",
       "\n",
       "   Flavanoids  Nonflavanoid_Phenols  Proanthocyanins  Color_Intensity   Hue  \\\n",
       "0        3.06                  0.28             2.29             5.64  1.04   \n",
       "1        2.76                  0.26             1.28             4.38  1.05   \n",
       "2        3.24                  0.30             2.81             5.68  1.03   \n",
       "3        3.49                  0.24             2.18             7.80  0.86   \n",
       "4        2.69                  0.39             1.82             4.32  1.04   \n",
       "\n",
       "   OD280  Proline  \n",
       "0   3.92     1065  \n",
       "1   3.40     1050  \n",
       "2   3.17     1185  \n",
       "3   3.45     1480  \n",
       "4   2.93      735  "
      ]
     },
     "execution_count": 4,
     "metadata": {},
     "output_type": "execute_result"
    }
   ],
   "source": [
    "X.head()"
   ]
  },
  {
   "cell_type": "code",
   "execution_count": 5,
   "metadata": {},
   "outputs": [
    {
     "data": {
      "text/plain": [
       "array([1, 1, 1, 1, 1, 1, 1, 1, 1, 1, 1, 1, 1, 1, 1, 1, 1, 1, 1, 1, 1, 1,\n",
       "       1, 1, 1, 1, 1, 1, 1, 1, 1, 1, 1, 1, 1, 1, 1, 1, 1, 1, 1, 1, 1, 1,\n",
       "       1, 1, 1, 1, 1, 1, 1, 1, 1, 1, 1, 1, 1, 1, 1, 2, 2, 2, 2, 2, 2, 2,\n",
       "       2, 2, 2, 2, 2, 2, 2, 2, 2, 2, 2, 2, 2, 2, 2, 2, 2, 2, 2, 2, 2, 2,\n",
       "       2, 2, 2, 2, 2, 2, 2, 2, 2, 2, 2, 2, 2, 2, 2, 2, 2, 2, 2, 2, 2, 2,\n",
       "       2, 2, 2, 2, 2, 2, 2, 2, 2, 2, 2, 2, 2, 2, 2, 2, 2, 2, 2, 2, 3, 3,\n",
       "       3, 3, 3, 3, 3, 3, 3, 3, 3, 3, 3, 3, 3, 3, 3, 3, 3, 3, 3, 3, 3, 3,\n",
       "       3, 3, 3, 3, 3, 3, 3, 3, 3, 3, 3, 3, 3, 3, 3, 3, 3, 3, 3, 3, 3, 3,\n",
       "       3, 3])"
      ]
     },
     "execution_count": 5,
     "metadata": {},
     "output_type": "execute_result"
    }
   ],
   "source": [
    "np.array(y).T"
   ]
  },
  {
   "cell_type": "code",
   "execution_count": 6,
   "metadata": {},
   "outputs": [],
   "source": [
    "# Dividindo em treino e teste\n",
    "from sklearn.model_selection import train_test_split\n",
    "X_train, X_test, y_train, y_test = train_test_split(X, y, test_size = 0.2, random_state = 0)"
   ]
  },
  {
   "cell_type": "code",
   "execution_count": 7,
   "metadata": {},
   "outputs": [
    {
     "data": {
      "text/plain": [
       "(142, 13)"
      ]
     },
     "execution_count": 7,
     "metadata": {},
     "output_type": "execute_result"
    }
   ],
   "source": [
    "X_train.shape"
   ]
  },
  {
   "cell_type": "code",
   "execution_count": 8,
   "metadata": {},
   "outputs": [
    {
     "data": {
      "text/plain": [
       "(36, 13)"
      ]
     },
     "execution_count": 8,
     "metadata": {},
     "output_type": "execute_result"
    }
   ],
   "source": [
    "X_test.shape"
   ]
  },
  {
   "cell_type": "code",
   "execution_count": 9,
   "metadata": {},
   "outputs": [],
   "source": [
    "# Feature Scaling\n",
    "from sklearn.preprocessing import StandardScaler\n",
    "sc = StandardScaler()\n",
    "X_train = sc.fit_transform(X_train)\n",
    "X_test = sc.transform(X_test)"
   ]
  },
  {
   "cell_type": "code",
   "execution_count": 12,
   "metadata": {},
   "outputs": [
    {
     "data": {
      "text/html": [
       "<div>\n",
       "<style scoped>\n",
       "    .dataframe tbody tr th:only-of-type {\n",
       "        vertical-align: middle;\n",
       "    }\n",
       "\n",
       "    .dataframe tbody tr th {\n",
       "        vertical-align: top;\n",
       "    }\n",
       "\n",
       "    .dataframe thead th {\n",
       "        text-align: right;\n",
       "    }\n",
       "</style>\n",
       "<table border=\"1\" class=\"dataframe\">\n",
       "  <thead>\n",
       "    <tr style=\"text-align: right;\">\n",
       "      <th></th>\n",
       "      <th>0</th>\n",
       "      <th>1</th>\n",
       "      <th>2</th>\n",
       "      <th>3</th>\n",
       "      <th>4</th>\n",
       "      <th>5</th>\n",
       "      <th>6</th>\n",
       "      <th>7</th>\n",
       "      <th>8</th>\n",
       "      <th>9</th>\n",
       "      <th>10</th>\n",
       "      <th>11</th>\n",
       "      <th>12</th>\n",
       "    </tr>\n",
       "  </thead>\n",
       "  <tbody>\n",
       "    <tr>\n",
       "      <th>0</th>\n",
       "      <td>0.876683</td>\n",
       "      <td>0.798429</td>\n",
       "      <td>0.644130</td>\n",
       "      <td>0.129743</td>\n",
       "      <td>0.488532</td>\n",
       "      <td>-0.703262</td>\n",
       "      <td>-1.428468</td>\n",
       "      <td>1.072457</td>\n",
       "      <td>-1.368203</td>\n",
       "      <td>0.351932</td>\n",
       "      <td>0.029017</td>\n",
       "      <td>-1.064122</td>\n",
       "      <td>-0.205908</td>\n",
       "    </tr>\n",
       "    <tr>\n",
       "      <th>1</th>\n",
       "      <td>-0.366591</td>\n",
       "      <td>-0.758130</td>\n",
       "      <td>-0.397799</td>\n",
       "      <td>0.333800</td>\n",
       "      <td>-1.413024</td>\n",
       "      <td>-1.441531</td>\n",
       "      <td>-0.502998</td>\n",
       "      <td>1.701100</td>\n",
       "      <td>0.023668</td>\n",
       "      <td>-0.841146</td>\n",
       "      <td>0.029017</td>\n",
       "      <td>-0.730832</td>\n",
       "      <td>-0.817047</td>\n",
       "    </tr>\n",
       "    <tr>\n",
       "      <th>2</th>\n",
       "      <td>-1.696894</td>\n",
       "      <td>-0.344248</td>\n",
       "      <td>-0.323375</td>\n",
       "      <td>-0.453279</td>\n",
       "      <td>-0.145320</td>\n",
       "      <td>1.249050</td>\n",
       "      <td>0.319642</td>\n",
       "      <td>-1.520697</td>\n",
       "      <td>-0.434631</td>\n",
       "      <td>-0.756829</td>\n",
       "      <td>0.901974</td>\n",
       "      <td>0.519005</td>\n",
       "      <td>-1.312565</td>\n",
       "    </tr>\n",
       "    <tr>\n",
       "      <th>3</th>\n",
       "      <td>0.516134</td>\n",
       "      <td>1.383263</td>\n",
       "      <td>0.420859</td>\n",
       "      <td>1.004275</td>\n",
       "      <td>0.136392</td>\n",
       "      <td>-0.752480</td>\n",
       "      <td>-1.233091</td>\n",
       "      <td>0.522394</td>\n",
       "      <td>-0.332787</td>\n",
       "      <td>0.950579</td>\n",
       "      <td>-1.105828</td>\n",
       "      <td>-1.425187</td>\n",
       "      <td>0.025334</td>\n",
       "    </tr>\n",
       "    <tr>\n",
       "      <th>4</th>\n",
       "      <td>0.640461</td>\n",
       "      <td>-0.506202</td>\n",
       "      <td>0.904612</td>\n",
       "      <td>0.129743</td>\n",
       "      <td>-0.286176</td>\n",
       "      <td>0.445157</td>\n",
       "      <td>0.679547</td>\n",
       "      <td>-0.656312</td>\n",
       "      <td>0.091564</td>\n",
       "      <td>-0.643002</td>\n",
       "      <td>0.727382</td>\n",
       "      <td>1.713295</td>\n",
       "      <td>0.339162</td>\n",
       "    </tr>\n",
       "  </tbody>\n",
       "</table>\n",
       "</div>"
      ],
      "text/plain": [
       "         0         1         2         3         4         5         6   \\\n",
       "0  0.876683  0.798429  0.644130  0.129743  0.488532 -0.703262 -1.428468   \n",
       "1 -0.366591 -0.758130 -0.397799  0.333800 -1.413024 -1.441531 -0.502998   \n",
       "2 -1.696894 -0.344248 -0.323375 -0.453279 -0.145320  1.249050  0.319642   \n",
       "3  0.516134  1.383263  0.420859  1.004275  0.136392 -0.752480 -1.233091   \n",
       "4  0.640461 -0.506202  0.904612  0.129743 -0.286176  0.445157  0.679547   \n",
       "\n",
       "         7         8         9         10        11        12  \n",
       "0  1.072457 -1.368203  0.351932  0.029017 -1.064122 -0.205908  \n",
       "1  1.701100  0.023668 -0.841146  0.029017 -0.730832 -0.817047  \n",
       "2 -1.520697 -0.434631 -0.756829  0.901974  0.519005 -1.312565  \n",
       "3  0.522394 -0.332787  0.950579 -1.105828 -1.425187  0.025334  \n",
       "4 -0.656312  0.091564 -0.643002  0.727382  1.713295  0.339162  "
      ]
     },
     "execution_count": 12,
     "metadata": {},
     "output_type": "execute_result"
    }
   ],
   "source": [
    "pd.DataFrame(X_train).head()"
   ]
  },
  {
   "cell_type": "code",
   "execution_count": 13,
   "metadata": {},
   "outputs": [],
   "source": [
    "# Aplicando PCA\n",
    "from sklearn.decomposition import PCA\n",
    "pca = PCA(n_components = 2)\n",
    "X_train = pca.fit_transform(X_train)\n",
    "X_test = pca.transform(X_test)\n",
    "explained_variance = pca.explained_variance_ratio_ # As 2 componentes principais explicam o máximo da variância"
   ]
  },
  {
   "cell_type": "code",
   "execution_count": 14,
   "metadata": {},
   "outputs": [
    {
     "data": {
      "text/plain": [
       "array([0.36884109, 0.19318394])"
      ]
     },
     "execution_count": 14,
     "metadata": {},
     "output_type": "execute_result"
    }
   ],
   "source": [
    "explained_variance"
   ]
  },
  {
   "cell_type": "code",
   "execution_count": 15,
   "metadata": {},
   "outputs": [
    {
     "data": {
      "text/plain": [
       "array([[-2.17884511e+00, -1.07218467e+00],\n",
       "       [-1.80819239e+00,  1.57822344e+00],\n",
       "       [ 1.09829474e+00,  2.22124345e+00],\n",
       "       [-2.55584748e+00, -1.66210369e+00],\n",
       "       [ 1.85698063e+00,  2.41573166e-01],\n",
       "       [ 2.58288576e+00, -1.37668170e+00],\n",
       "       [ 8.72876119e-01,  2.25618512e+00],\n",
       "       [-4.18384029e-01,  2.35415681e+00],\n",
       "       [-3.04977245e-01,  2.27659433e+00],\n",
       "       [ 2.14082532e+00, -1.10052871e+00],\n",
       "       [-2.98136465e+00, -2.47159183e-01],\n",
       "       [ 1.96188242e+00,  1.25407738e+00],\n",
       "       [-2.16177795e+00, -9.75966550e-01],\n",
       "       [ 2.21976084e+00, -2.39507167e+00],\n",
       "       [-2.30179529e+00, -2.05791962e-01],\n",
       "       [-3.00953827e+00, -2.79141212e-01],\n",
       "       [ 2.63443473e+00, -8.68313119e-01],\n",
       "       [-1.09219965e+00, -3.53906625e+00],\n",
       "       [ 2.62578435e+00, -2.96852840e-03],\n",
       "       [ 1.98077342e-01,  2.29193443e+00],\n",
       "       [-2.67442753e+00, -2.58800132e+00],\n",
       "       [-2.54763698e+00, -4.52703891e-01],\n",
       "       [ 1.77416736e+00,  8.43586940e-01],\n",
       "       [-2.77786938e+00, -4.32090258e-01],\n",
       "       [-2.86679938e+00, -1.87580875e+00],\n",
       "       [ 1.35498845e+00,  3.99545184e-02],\n",
       "       [-2.43900474e+00,  9.44074889e-02],\n",
       "       [-2.27268121e+00,  5.05883053e-01],\n",
       "       [ 1.17887166e+00,  2.50068415e+00],\n",
       "       [-2.30673313e+00,  1.30502777e+00],\n",
       "       [-2.53020738e+00, -5.51277126e-01],\n",
       "       [ 1.63200028e-01,  1.29107817e+00],\n",
       "       [ 2.57881158e+00, -1.17515982e+00],\n",
       "       [-7.62471566e-01,  3.16097049e+00],\n",
       "       [ 2.57005937e+00, -9.66718786e-02],\n",
       "       [-4.78337042e-01,  5.77763823e-01],\n",
       "       [ 5.47417096e-01, -3.77647780e-01],\n",
       "       [ 3.55763538e+00, -1.45816125e+00],\n",
       "       [ 1.69260971e+00,  1.37844174e+00],\n",
       "       [ 2.65288395e+00, -2.39399539e-01],\n",
       "       [-3.62047411e+00, -6.90153979e-01],\n",
       "       [-1.61462317e+00, -2.41170340e+00],\n",
       "       [ 1.50959767e+00,  1.32717326e+00],\n",
       "       [ 5.36413494e-02,  2.07680094e+00],\n",
       "       [-1.07889168e-01,  2.85115217e+00],\n",
       "       [-2.39610454e+00, -2.45883860e+00],\n",
       "       [-3.12315181e+00,  4.23261512e-01],\n",
       "       [ 3.28569649e+00, -3.22859884e-01],\n",
       "       [-3.55506872e+00, -1.74242946e+00],\n",
       "       [-3.87020538e-01,  2.61510101e+00],\n",
       "       [-4.74514016e-01,  1.98023790e+00],\n",
       "       [-1.06865761e+00,  6.78906271e-01],\n",
       "       [ 1.08546036e+00,  1.30817801e+00],\n",
       "       [ 2.02340107e+00,  1.56926094e+00],\n",
       "       [ 2.76257094e+00, -1.85603600e+00],\n",
       "       [ 2.06778286e+00, -1.35861191e+00],\n",
       "       [ 9.06600653e-01,  2.04110996e+00],\n",
       "       [ 3.52336455e+00, -1.39946872e+00],\n",
       "       [-3.79914321e+00, -4.92727617e-02],\n",
       "       [ 1.75250993e+00,  4.64283651e-01],\n",
       "       [-3.46539192e+00, -7.90385134e-01],\n",
       "       [ 3.16221605e+00, -8.39879111e-01],\n",
       "       [ 2.37656864e+00, -1.72475988e+00],\n",
       "       [ 1.31278073e+00,  8.53348760e-01],\n",
       "       [ 3.57258440e+00, -1.78091597e+00],\n",
       "       [ 9.50877158e-01,  2.38927332e+00],\n",
       "       [ 4.95461316e-01,  2.16498322e+00],\n",
       "       [ 3.79294638e+00, -2.92787186e+00],\n",
       "       [-2.37978591e+00, -2.13572422e+00],\n",
       "       [-1.50346992e+00,  1.39146991e+00],\n",
       "       [ 2.50566646e+00, -1.30365941e+00],\n",
       "       [-6.97535788e-01,  2.78160736e-01],\n",
       "       [-7.25562555e-01,  2.54007170e+00],\n",
       "       [ 9.24047324e-01,  1.46344718e+00],\n",
       "       [-1.25151294e+00,  2.74792621e-02],\n",
       "       [ 2.20937835e+00, -8.05690832e-01],\n",
       "       [-3.84416995e+00, -5.74263508e-01],\n",
       "       [-1.77983157e+00, -1.38012167e+00],\n",
       "       [ 4.35413058e+00, -2.33750318e+00],\n",
       "       [ 3.33834347e+00, -1.51169086e+00],\n",
       "       [-1.44769123e+00,  1.90826204e+00],\n",
       "       [-2.75066706e+00, -2.07100640e+00],\n",
       "       [ 2.79475799e+00, -1.36659228e+00],\n",
       "       [ 1.84642601e+00, -6.82481476e-01],\n",
       "       [-4.13332842e-01,  2.20440158e+00],\n",
       "       [-4.81356617e-02,  1.17469609e+00],\n",
       "       [ 1.99166500e+00, -2.50860656e-01],\n",
       "       [ 2.26421169e+00, -1.32120813e+00],\n",
       "       [ 7.85551414e-01, -2.46487051e-01],\n",
       "       [-3.32586984e+00, -2.14485564e+00],\n",
       "       [ 1.00496881e+00,  7.20390295e-01],\n",
       "       [ 2.31479633e+00,  2.62129546e-01],\n",
       "       [ 8.67032066e-01,  1.36440259e+00],\n",
       "       [-2.28629769e+00, -4.54244754e-01],\n",
       "       [ 3.14452871e+00, -1.29318898e+00],\n",
       "       [-1.65297942e+00,  1.74177394e+00],\n",
       "       [-2.84689388e+00, -7.78426712e-02],\n",
       "       [-2.68393126e+00, -2.53813173e-01],\n",
       "       [ 1.97280128e+00, -1.70171835e+00],\n",
       "       [ 1.63120111e+00,  7.24762688e-01],\n",
       "       [-2.05082836e+00, -2.11848206e-01],\n",
       "       [ 2.28798382e+00, -1.95899701e+00],\n",
       "       [-2.28266458e+00, -2.07243579e-01],\n",
       "       [-3.45079842e-01,  1.92360626e+00],\n",
       "       [ 1.49448758e+00, -7.18673825e-01],\n",
       "       [ 2.26695932e+00, -7.93531817e-01],\n",
       "       [-3.44673144e-01,  1.92686997e+00],\n",
       "       [ 2.75927029e+00, -1.56391999e+00],\n",
       "       [-2.86839562e+00, -1.85579453e+00],\n",
       "       [-1.46228982e+00,  1.22151405e+00],\n",
       "       [-3.31754434e+00, -1.20382601e+00],\n",
       "       [ 1.72057718e+00, -1.36843828e-01],\n",
       "       [-2.90065973e+00, -3.71521776e-01],\n",
       "       [-2.30532411e+00, -2.14386284e+00],\n",
       "       [-3.51377495e+00, -1.17981731e+00],\n",
       "       [ 2.32780065e+00, -2.95396131e-01],\n",
       "       [ 1.54528723e+00,  1.99996309e+00],\n",
       "       [-3.32660657e-01,  2.37118865e+00],\n",
       "       [ 4.96648201e-01,  9.57282660e-01],\n",
       "       [ 6.69654741e-01,  3.80907536e+00],\n",
       "       [-2.76009366e+00, -1.48785734e+00],\n",
       "       [-3.19187371e+00, -2.70815669e+00],\n",
       "       [-6.05023707e-01,  1.10583182e+00],\n",
       "       [-1.34006934e+00,  1.51232906e+00],\n",
       "       [ 1.05506599e+00, -9.49724036e-01],\n",
       "       [ 1.16017702e+00,  1.39768493e+00],\n",
       "       [-2.87675356e+00, -1.15157946e+00],\n",
       "       [-2.35838421e+00, -2.44842974e+00],\n",
       "       [ 2.54704855e+00, -1.86824592e+00],\n",
       "       [ 3.20597222e+00, -1.85912926e+00],\n",
       "       [-2.69949485e+00, -1.75638262e-01],\n",
       "       [-9.67436859e-01,  1.81399824e+00],\n",
       "       [-1.46454259e+00,  1.01680272e+00],\n",
       "       [-4.04000223e-01,  2.40815711e+00],\n",
       "       [ 1.46393837e+00, -6.90763351e-01],\n",
       "       [ 1.15903114e+00, -2.91379684e-01],\n",
       "       [ 2.82057099e+00, -8.99578955e-01],\n",
       "       [-5.01011897e-01,  2.68453162e+00],\n",
       "       [ 3.30453915e-01,  2.43396193e+00],\n",
       "       [ 1.09727608e-02,  1.99585453e+00],\n",
       "       [ 2.89176687e+00, -7.71555485e-01],\n",
       "       [-2.44830439e+00, -2.11360296e+00]])"
      ]
     },
     "execution_count": 15,
     "metadata": {},
     "output_type": "execute_result"
    }
   ],
   "source": [
    "X_train"
   ]
  },
  {
   "cell_type": "markdown",
   "metadata": {},
   "source": [
    "Assim, pode-se notar que X foi reduzido para 2 componentes principais, que são dimensões que o algoritmo encontrou para projetar os dados de modo à maximizar a variância dessas 2 componentes. Iremos avaliar um modelo de classificação e entender as vantagens de se usar PCA para este tipo de aplicação."
   ]
  },
  {
   "cell_type": "code",
   "execution_count": 16,
   "metadata": {},
   "outputs": [
    {
     "data": {
      "text/plain": [
       "LogisticRegression(C=1.0, class_weight=None, dual=False, fit_intercept=True,\n",
       "          intercept_scaling=1, max_iter=100, multi_class='ovr', n_jobs=1,\n",
       "          penalty='l2', random_state=0, solver='liblinear', tol=0.0001,\n",
       "          verbose=0, warm_start=False)"
      ]
     },
     "execution_count": 16,
     "metadata": {},
     "output_type": "execute_result"
    }
   ],
   "source": [
    "# Criando um modelo de Regressão Logística\n",
    "from sklearn.linear_model import LogisticRegression\n",
    "classifier = LogisticRegression(random_state = 0)\n",
    "classifier.fit(X_train, y_train)"
   ]
  },
  {
   "cell_type": "code",
   "execution_count": 17,
   "metadata": {},
   "outputs": [
    {
     "data": {
      "text/plain": [
       "array([1, 3, 2, 1, 2, 1, 1, 3, 2, 2, 3, 3, 1, 2, 3, 2, 1, 1, 2, 1, 2, 1,\n",
       "       1, 2, 2, 2, 2, 2, 2, 3, 1, 1, 2, 1, 1, 1])"
      ]
     },
     "execution_count": 17,
     "metadata": {},
     "output_type": "execute_result"
    }
   ],
   "source": [
    "# Prevendo os resultados\n",
    "y_pred = classifier.predict(X_test)\n",
    "y_pred"
   ]
  },
  {
   "cell_type": "code",
   "execution_count": 18,
   "metadata": {},
   "outputs": [
    {
     "name": "stderr",
     "output_type": "stream",
     "text": [
      "/usr/local/lib/python3.5/dist-packages/pandas/core/computation/check.py:17: UserWarning: The installed version of numexpr 2.4.3 is not supported in pandas and will be not be used\n",
      "The minimum supported version is 2.4.6\n",
      "\n",
      "  ver=ver, min_ver=_MIN_NUMEXPR_VERSION), UserWarning)\n"
     ]
    },
    {
     "data": {
      "image/png": "[encoded data removed]",
      "text/plain": [
       "<matplotlib.figure.Figure at 0x7f2783caa240>"
      ]
     },
     "metadata": {},
     "output_type": "display_data"
    },
    {
     "name": "stdout",
     "output_type": "stream",
     "text": [
      "Acurácia: 0.9722222222222222\n"
     ]
    }
   ],
   "source": [
    "# Criando a matriz de confusão\n",
    "from sklearn.metrics import confusion_matrix, accuracy_score\n",
    "import seaborn as sns\n",
    "\n",
    "cm = confusion_matrix(y_test, y_pred)\n",
    "acc = accuracy_score(y_test, y_pred)\n",
    "\n",
    "sns.heatmap(cm, annot = True)\n",
    "plt.show()\n",
    "print(\"Acurácia: {}\".format(acc))"
   ]
  },
  {
   "cell_type": "code",
   "execution_count": 19,
   "metadata": {},
   "outputs": [
    {
     "data": {
      "image/png": "[encoded data removed]",
      "text/plain": [
       "<matplotlib.figure.Figure at 0x7f277e9584e0>"
      ]
     },
     "metadata": {},
     "output_type": "display_data"
    }
   ],
   "source": [
    "# Visualização dos resultados (conjunto de teste)\n",
    "from matplotlib.colors import ListedColormap\n",
    "X_set, y_set = X_test, y_test\n",
    "X1, X2 = np.meshgrid(np.arange(start = X_set[:, 0].min() - 1, stop = X_set[:, 0].max() + 1, step = 0.01),\n",
    "                     np.arange(start = X_set[:, 1].min() - 1, stop = X_set[:, 1].max() + 1, step = 0.01))\n",
    "plt.contourf(X1, X2, classifier.predict(np.array([X1.ravel(), X2.ravel()]).T).reshape(X1.shape),\n",
    "             alpha = 0.75, cmap = ListedColormap(('red', 'green', 'blue')))\n",
    "plt.xlim(X1.min(), X1.max())\n",
    "plt.ylim(X2.min(), X2.max())\n",
    "for i, j in enumerate(np.unique(y_set)):\n",
    "    plt.scatter(X_set[y_set == j, 0], X_set[y_set == j, 1],\n",
    "                c = ListedColormap(('red', 'green', 'blue'))(i), label = j)\n",
    "plt.title('Logistic Regression (Test set)')\n",
    "plt.xlabel('PC1')\n",
    "plt.ylabel('PC2')\n",
    "plt.legend()\n",
    "plt.show()"
   ]
  },
  {
   "cell_type": "markdown",
   "metadata": {},
   "source": [
    "# LDA (Linear Discriminant Analysis)\n",
    "\n",
    "Este algoritmo é um algoritmo de Redução de Dimensionalidade, porém é considerado Supervisionado, pois utiliza-se da informação dos rótulos de modo à maximizar a densidade de distribuição de probabilidade para cada classe."
   ]
  },
  {
   "cell_type": "code",
   "execution_count": 20,
   "metadata": {},
   "outputs": [],
   "source": [
    "# Importando o dataset\n",
    "dataset = pd.read_csv('Wine.csv')\n",
    "X = dataset.iloc[:, 0:13]\n",
    "y = dataset.iloc[:, 13]\n",
    "\n",
    "# Dividindo em treino e teste\n",
    "from sklearn.model_selection import train_test_split\n",
    "X_train, X_test, y_train, y_test = train_test_split(X, y, test_size = 0.2, random_state = 0)\n",
    "\n",
    "# Feature Scaling\n",
    "from sklearn.preprocessing import StandardScaler\n",
    "sc = StandardScaler()\n",
    "X_train = sc.fit_transform(X_train)\n",
    "X_test = sc.transform(X_test)\n",
    "\n",
    "# Aplicando LDA\n",
    "from sklearn.discriminant_analysis import LinearDiscriminantAnalysis as LDA\n",
    "lda = LDA(n_components = 2)\n",
    "X_train = lda.fit_transform(X_train, y_train)\n",
    "X_test = lda.transform(X_test)"
   ]
  },
  {
   "cell_type": "code",
   "execution_count": 22,
   "metadata": {},
   "outputs": [
    {
     "data": {
      "text/html": [
       "<div>\n",
       "<style scoped>\n",
       "    .dataframe tbody tr th:only-of-type {\n",
       "        vertical-align: middle;\n",
       "    }\n",
       "\n",
       "    .dataframe tbody tr th {\n",
       "        vertical-align: top;\n",
       "    }\n",
       "\n",
       "    .dataframe thead th {\n",
       "        text-align: right;\n",
       "    }\n",
       "</style>\n",
       "<table border=\"1\" class=\"dataframe\">\n",
       "  <thead>\n",
       "    <tr style=\"text-align: right;\">\n",
       "      <th></th>\n",
       "      <th>0</th>\n",
       "      <th>1</th>\n",
       "    </tr>\n",
       "  </thead>\n",
       "  <tbody>\n",
       "    <tr>\n",
       "      <th>0</th>\n",
       "      <td>3.573156</td>\n",
       "      <td>1.940189</td>\n",
       "    </tr>\n",
       "    <tr>\n",
       "      <th>1</th>\n",
       "      <td>0.854759</td>\n",
       "      <td>-2.081830</td>\n",
       "    </tr>\n",
       "    <tr>\n",
       "      <th>2</th>\n",
       "      <td>0.621737</td>\n",
       "      <td>-3.062345</td>\n",
       "    </tr>\n",
       "    <tr>\n",
       "      <th>3</th>\n",
       "      <td>4.807864</td>\n",
       "      <td>2.006387</td>\n",
       "    </tr>\n",
       "    <tr>\n",
       "      <th>4</th>\n",
       "      <td>-3.857976</td>\n",
       "      <td>0.149873</td>\n",
       "    </tr>\n",
       "  </tbody>\n",
       "</table>\n",
       "</div>"
      ],
      "text/plain": [
       "          0         1\n",
       "0  3.573156  1.940189\n",
       "1  0.854759 -2.081830\n",
       "2  0.621737 -3.062345\n",
       "3  4.807864  2.006387\n",
       "4 -3.857976  0.149873"
      ]
     },
     "execution_count": 22,
     "metadata": {},
     "output_type": "execute_result"
    }
   ],
   "source": [
    "pd.DataFrame(X_train).head()"
   ]
  },
  {
   "cell_type": "code",
   "execution_count": 23,
   "metadata": {},
   "outputs": [
    {
     "data": {
      "text/plain": [
       "LogisticRegression(C=1.0, class_weight=None, dual=False, fit_intercept=True,\n",
       "          intercept_scaling=1, max_iter=100, multi_class='ovr', n_jobs=1,\n",
       "          penalty='l2', random_state=0, solver='liblinear', tol=0.0001,\n",
       "          verbose=0, warm_start=False)"
      ]
     },
     "execution_count": 23,
     "metadata": {},
     "output_type": "execute_result"
    }
   ],
   "source": [
    "# Criando um modelo de Regressão Logística\n",
    "from sklearn.linear_model import LogisticRegression\n",
    "classifier = LogisticRegression(random_state = 0)\n",
    "classifier.fit(X_train, y_train)"
   ]
  },
  {
   "cell_type": "code",
   "execution_count": 24,
   "metadata": {},
   "outputs": [
    {
     "data": {
      "text/plain": [
       "array([1, 3, 2, 1, 2, 2, 1, 3, 2, 2, 3, 3, 1, 2, 3, 2, 1, 1, 2, 1, 2, 1,\n",
       "       1, 2, 2, 2, 2, 2, 2, 3, 1, 1, 2, 1, 1, 1])"
      ]
     },
     "execution_count": 24,
     "metadata": {},
     "output_type": "execute_result"
    }
   ],
   "source": [
    "# Prevendo os resultados\n",
    "y_pred = classifier.predict(X_test)\n",
    "y_pred"
   ]
  },
  {
   "cell_type": "code",
   "execution_count": 25,
   "metadata": {},
   "outputs": [
    {
     "data": {
      "image/png": "[encoded data removed]",
      "text/plain": [
       "<matplotlib.figure.Figure at 0x7f277dc5da20>"
      ]
     },
     "metadata": {},
     "output_type": "display_data"
    },
    {
     "name": "stdout",
     "output_type": "stream",
     "text": [
      "Acurácia: 1.0\n"
     ]
    }
   ],
   "source": [
    "# Criando a matriz de confusão\n",
    "from sklearn.metrics import confusion_matrix, accuracy_score\n",
    "import seaborn as sns\n",
    "\n",
    "cm = confusion_matrix(y_test, y_pred)\n",
    "acc = accuracy_score(y_test, y_pred)\n",
    "\n",
    "sns.heatmap(cm, annot = True)\n",
    "plt.show()\n",
    "print(\"Acurácia: {}\".format(acc))"
   ]
  },
  {
   "cell_type": "code",
   "execution_count": 26,
   "metadata": {},
   "outputs": [
    {
     "data": {
      "image/png": "[encoded data removed]",
      "text/plain": [
       "<matplotlib.figure.Figure at 0x7f27801dc7b8>"
      ]
     },
     "metadata": {},
     "output_type": "display_data"
    }
   ],
   "source": [
    "# Visualização dos resultados (conjunto de teste)\n",
    "from matplotlib.colors import ListedColormap\n",
    "X_set, y_set = X_test, y_test\n",
    "X1, X2 = np.meshgrid(np.arange(start = X_set[:, 0].min() - 1, stop = X_set[:, 0].max() + 1, step = 0.01),\n",
    "                     np.arange(start = X_set[:, 1].min() - 1, stop = X_set[:, 1].max() + 1, step = 0.01))\n",
    "plt.contourf(X1, X2, classifier.predict(np.array([X1.ravel(), X2.ravel()]).T).reshape(X1.shape),\n",
    "             alpha = 0.75, cmap = ListedColormap(('red', 'green', 'blue')))\n",
    "plt.xlim(X1.min(), X1.max())\n",
    "plt.ylim(X2.min(), X2.max())\n",
    "for i, j in enumerate(np.unique(y_set)):\n",
    "    plt.scatter(X_set[y_set == j, 0], X_set[y_set == j, 1],\n",
    "                c = ListedColormap(('red', 'green', 'blue'))(i), label = j)\n",
    "plt.title('Logistic Regression (Test set)')\n",
    "plt.xlabel('LD1')\n",
    "plt.ylabel('LD2')\n",
    "plt.legend()\n",
    "plt.show()"
   ]
  },
  {
   "cell_type": "code",
   "execution_count": null,
   "metadata": {},
   "outputs": [],
   "source": []
  }
 ],
 "metadata": {
  "kernelspec": {
   "display_name": "Python 3",
   "language": "python",
   "name": "python3"
  },
  "language_info": {
   "codemirror_mode": {
    "name": "ipython",
    "version": 3
   },
   "file_extension": ".py",
   "mimetype": "text/x-python",
   "name": "python",
   "nbconvert_exporter": "python",
   "pygments_lexer": "ipython3",
   "version": "3.5.2"
  }
 },
 "nbformat": 4,
 "nbformat_minor": 2
}
