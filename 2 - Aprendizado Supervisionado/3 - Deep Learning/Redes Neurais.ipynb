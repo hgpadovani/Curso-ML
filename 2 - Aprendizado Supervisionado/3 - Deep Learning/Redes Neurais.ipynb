{
 "cells": [
  {
   "cell_type": "markdown",
   "metadata": {},
   "source": [
    "# Redes Neurais\n",
    "\n",
    "Redes Neurais é um dos algoritmos mais antigos de Machine Learning. Sia interpretação é foi baseada em um neurônio biológico e suas abstrações para o mundo digital. Possui um poder de mapeamento universal (Teorema de Aproximação Universal: Uma rede neural com 1 camada intermediária é capaz de aproximar qualquer mapeamento, dada algumas limitações). \n",
    "\n",
    "Desta forma, são um dos algoritmos mais poderosos no arsenal de um Cientista de Dados que trabalha com dados complexos. Semelhante ao Random Forest, o algoritmo deve ajustar uma quantidade gigantesca de parâmetros, o que pode ser considerado uma faca de dois gumes, pois se feito de forma errada, é bem provável que entre em regime de overfitting.\n",
    "\n",
    "Neste notebook vamos estudar Redes Neurais Artificiais e Redes Neurais Convolucionais, onde vamos entender suas principais diferenças, e entender porquê existe essa hype tão grande em cima das Redes Neurais Profundas (Deep Learning)."
   ]
  },
  {
   "cell_type": "code",
   "execution_count": null,
   "metadata": {},
   "outputs": [],
   "source": [
    "# Importando as bibliotecas\n",
    "import numpy as np\n",
    "import matplotlib.pyplot as plt\n",
    "import pandas as pd"
   ]
  },
  {
   "cell_type": "code",
   "execution_count": null,
   "metadata": {},
   "outputs": [],
   "source": [
    "# Importando o dataset\n",
    "dataset = pd.read_csv('Churn_Modelling.csv')\n",
    "X = dataset.iloc[:, 3:13]\n",
    "y = dataset.iloc[:, 13]"
   ]
  },
  {
   "cell_type": "code",
   "execution_count": null,
   "metadata": {},
   "outputs": [],
   "source": [
    "X.head()"
   ]
  },
  {
   "cell_type": "code",
   "execution_count": null,
   "metadata": {},
   "outputs": [],
   "source": [
    "X = pd.get_dummies(X)"
   ]
  },
  {
   "cell_type": "code",
   "execution_count": null,
   "metadata": {},
   "outputs": [],
   "source": [
    "X.head()"
   ]
  },
  {
   "cell_type": "code",
   "execution_count": null,
   "metadata": {},
   "outputs": [],
   "source": [
    "X.drop(['Geography_France', 'Gender_Male'], axis=1, inplace=True) # Evitando Dummy Variable Trap"
   ]
  },
  {
   "cell_type": "code",
   "execution_count": null,
   "metadata": {},
   "outputs": [],
   "source": [
    "X.head()"
   ]
  },
  {
   "cell_type": "code",
   "execution_count": null,
   "metadata": {},
   "outputs": [],
   "source": [
    "# Dividindo em treino e teste\n",
    "from sklearn.model_selection import train_test_split\n",
    "X_train, X_test, y_train, y_test = train_test_split(X, y, test_size = 0.2, random_state = 0)"
   ]
  },
  {
   "cell_type": "code",
   "execution_count": null,
   "metadata": {},
   "outputs": [],
   "source": [
    "# Feature Scaling\n",
    "from sklearn.preprocessing import StandardScaler\n",
    "sc = StandardScaler()\n",
    "X_train = sc.fit_transform(X_train)\n",
    "X_test = sc.transform(X_test)"
   ]
  },
  {
   "cell_type": "code",
   "execution_count": null,
   "metadata": {},
   "outputs": [],
   "source": [
    "pd.DataFrame(X_train).head()"
   ]
  },
  {
   "cell_type": "markdown",
   "metadata": {},
   "source": [
    "## Criando a Rede Neural"
   ]
  },
  {
   "cell_type": "code",
   "execution_count": null,
   "metadata": {},
   "outputs": [],
   "source": [
    "# Importando as bibliotecas e classes\n",
    "import keras\n",
    "from keras.models import Sequential\n",
    "from keras.layers import Dense\n",
    "\n",
    "# Inicializando a rede\n",
    "classifier = Sequential()\n",
    "\n",
    "# Adicionando a primeira camada escondida\n",
    "classifier.add(Dense(output_dim = 6, init = 'uniform', activation = 'relu', input_dim = 11)) # 6 neurônios, é a segunda camada escondida\n",
    "\n",
    "# Adicionando a segunda camada escondida\n",
    "classifier.add(Dense(output_dim = 6, init = 'uniform', activation = 'relu')) # não é necessário informar a camada de saída\n",
    "\n",
    "# Adicionando a camada de saída\n",
    "classifier.add(Dense(output_dim = 1, init = 'uniform', activation = 'sigmoid')) # Uma saída, utilizando ativação sigmoid para probabilidades\n",
    "\n",
    "# Compilando a rede\n",
    "# adam = Um tipo de descida de gradiente estocástico\n",
    "# metrics = accuracy\n",
    "classifier.compile(optimizer = 'adam', loss = 'binary_crossentropy', metrics = ['accuracy'])"
   ]
  },
  {
   "cell_type": "markdown",
   "metadata": {},
   "source": [
    "Neste caso, nossa rede neural tem 3 camadas, com 11 neurônios na primeira camada, 6 neurônios na segunda camada, e 1 neurônio na cama de saída.\n",
    "\n",
    "Nas camadas de Entrada e Escondida foram utilizadas funções de ativação ReLu, e na camada de saída foi utilizada a função de ativação Sigmoid (problema de classificação binária).\n",
    "\n",
    "O algoritmo de otimização utilizado foi ADAM (um algoritmo tipo Descida de Gradiente Estocástico), e a métrica utilizada foi acurácia."
   ]
  },
  {
   "cell_type": "code",
   "execution_count": null,
   "metadata": {},
   "outputs": [],
   "source": [
    "# Treinando a rede\n",
    "classifier.fit(X_train, y_train, batch_size = 10, nb_epoch = 100)"
   ]
  },
  {
   "cell_type": "code",
   "execution_count": null,
   "metadata": {},
   "outputs": [],
   "source": [
    "# Prevendo os resultados\n",
    "y_pred = classifier.predict(X_test) # Retorna probabilidades\n",
    "y_pred = (y_pred > 0.5) # Retorna 1 para maior que 0,5 e 0 caso contrário\n",
    "y_pred"
   ]
  },
  {
   "cell_type": "code",
   "execution_count": null,
   "metadata": {},
   "outputs": [],
   "source": [
    "# Criando a matriz de confusão e acurácia\n",
    "from sklearn.metrics import confusion_matrix, accuracy_score\n",
    "import seaborn as sns\n",
    "\n",
    "cm = confusion_matrix(y_test, y_pred)\n",
    "acc = accuracy_score(y_test, y_pred)\n",
    "\n",
    "sns.heatmap(cm, annot=True, fmt = 'd')\n",
    "plt.show()\n",
    "print('Acurácia: {}'.format(acc))"
   ]
  },
  {
   "cell_type": "markdown",
   "metadata": {},
   "source": [
    "# Redes Neurais Convolucionais\n",
    "\n",
    "Redes Neurais Convolucionais são amplamente utilizadas em reconhecimento de imagens, reconhecimento de voz, geração artificial de imagens e voz, no campo médico, entre outras aplicações. Seu poder está na imensa quantidade de pesos ajustados e em sua capacidade de extração automática de features, não sendo necessário nenhum preparo prévio de estudo de relevância de features (a rede aprende o que é importante e o que não é).\n",
    "\n",
    "Consequentemente, dada a imensa quantidade de pesos à serem ajustados, o custo computacional de treino de uma rede neural convolucional é alto. Para estes casos, utiliza-se GPUs, ou Unidades Gráficas de Processamento, que aceleram o processamento desse tipo de Rede.\n",
    "\n",
    "Para nosso curso, usaremos um conjunto de dados pequeno para que não seja necessário extrapolar as capacidades dos notebooks."
   ]
  },
  {
   "cell_type": "code",
   "execution_count": null,
   "metadata": {},
   "outputs": [],
   "source": [
    "# Importando as bibliotecas e Classes\n",
    "from keras.models import Sequential\n",
    "from keras.layers import Convolution2D\n",
    "from keras.layers import MaxPooling2D\n",
    "from keras.layers import Flatten\n",
    "from keras.layers import Dense\n",
    "from keras.layers import Dropout"
   ]
  },
  {
   "cell_type": "code",
   "execution_count": null,
   "metadata": {},
   "outputs": [],
   "source": [
    "# Inicializando a Rede\n",
    "classifier = Sequential()\n",
    "\n",
    "# 32, 3, 3 - Número de filtros, Dimensão dos filtros (3x3)\n",
    "# input shape = 3 camadas (RGB), 64x64 pixels em cada\n",
    "classifier.add(Convolution2D(32, 3, 3, input_shape = (64, 64, 3), activation = 'relu'))\n",
    "\n",
    "# 2x2 - Tamanho da forma de pooling\n",
    "classifier.add(MaxPooling2D(pool_size = (2, 2)))\n",
    "classifier.add(Dropout(0.4))\n",
    "\n",
    "# Adicionando uma segunda camada de convolução e maxpooling\n",
    "classifier.add(Convolution2D(32, 3, 3, activation = 'relu')) # não é necessário informar input_shape\n",
    "classifier.add(MaxPooling2D(pool_size = (2, 2)))\n",
    "\n",
    "# Flattening\n",
    "classifier.add(Flatten())\n",
    "\n",
    "# Full Connection\n",
    "# Output_dim = Número de neurônios na camada escondida = 128\n",
    "classifier.add(Dense(output_dim = 128, activation = 'relu'))\n",
    "classifier.add(Dense(output_dim = 1, activation = 'sigmoid')) # output layer, sigmoid function, binary outcome\n",
    "\n",
    "# Compilando a CNN\n",
    "classifier.compile(optimizer = 'adam', loss = 'binary_crossentropy', metrics = ['accuracy'])"
   ]
  },
  {
   "cell_type": "code",
   "execution_count": null,
   "metadata": {},
   "outputs": [],
   "source": [
    "# Image augmentation - Usado para evitar overfitting\n",
    "# Image augmentation cria um novo batch de imagens com pequenas mudanças, \n",
    "# de forma a aumentar virtualmente o número de imagens\n",
    "from keras.preprocessing.image import ImageDataGenerator\n",
    "train_datagen = ImageDataGenerator(rescale=1./255, # Cria imagens com tamanhos diferentes\n",
    "                                   shear_range=0.2, # Transformações geométricas\n",
    "                                   zoom_range=0.2, # Zoom randômico \n",
    "                                   horizontal_flip=True) # Flipping\n",
    "\n",
    "test_datagen = ImageDataGenerator(rescale=1./255) # É apenas necessário fazer rescale\n",
    "\n",
    "training_set = train_datagen.flow_from_directory('dataset/training_set',\n",
    "                                                 target_size=(64, 64), # Dimensão esperada pela CNN\n",
    "                                                 batch_size=32, # Número de imagens simultâneas na CNN\n",
    "                                                 class_mode='binary') # 2 classes\n",
    "\n",
    "test_set = test_datagen.flow_from_directory('dataset/test_set',\n",
    "                                             target_size=(64, 64),\n",
    "                                             batch_size=32,\n",
    "                                             class_mode='binary')"
   ]
  },
  {
   "cell_type": "code",
   "execution_count": null,
   "metadata": {},
   "outputs": [],
   "source": [
    "# Treinando a rede\n",
    "classifier.fit_generator(training_set,\n",
    "                         steps_per_epoch = 8000/32, # samples_per_epoch/batch_size\n",
    "                         epochs = 10,\n",
    "                         verbose = 0,\n",
    "                         validation_data = test_set,\n",
    "                         validation_steps = 2000/32)"
   ]
  },
  {
   "cell_type": "code",
   "execution_count": null,
   "metadata": {},
   "outputs": [],
   "source": [
    "y_pred = classifier.predict(test_set)"
   ]
  },
  {
   "cell_type": "code",
   "execution_count": null,
   "metadata": {},
   "outputs": [],
   "source": [
    "y_pred = classifier.predict_generator(test_set)\n"
   ]
  },
  {
   "cell_type": "code",
   "execution_count": null,
   "metadata": {},
   "outputs": [],
   "source": []
  }
 ],
 "metadata": {
  "kernelspec": {
   "display_name": "Python 3",
   "language": "python",
   "name": "python3"
  },
  "language_info": {
   "codemirror_mode": {
    "name": "ipython",
    "version": 3
   },
   "file_extension": ".py",
   "mimetype": "text/x-python",
   "name": "python",
   "nbconvert_exporter": "python",
   "pygments_lexer": "ipython3",
   "version": "3.5.2"
  }
 },
 "nbformat": 4,
 "nbformat_minor": 2
}
